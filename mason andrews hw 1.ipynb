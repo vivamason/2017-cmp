{
 "cells": [
  {
   "cell_type": "code",
   "execution_count": 3,
   "metadata": {},
   "outputs": [
    {
     "name": "stdout",
     "output_type": "stream",
     "text": [
      "[]\n",
      "[1]\n",
      "[1, 1]\n",
      "[1, 1, 2]\n",
      "[1, 1, 2, 3]\n",
      "[1, 1, 2, 3, 5, 8, 13, 21, 34, 55, 89, 144, 233, 377, 610, 987, 1597, 2584, 4181, 6765]\n"
     ]
    }
   ],
   "source": [
    "# this is the start of my code\n",
    "\n",
    "def Fib_series(N):\n",
    "    #this is defining all the variables\n",
    "    i = int(1)\n",
    "    j = int(0)\n",
    "    k = 4\n",
    "    while (N>0):\n",
    "        #i am storing the result of adding the last two elements into a third box then shifting everything over by one\n",
    "        k = i + j\n",
    "        i = j\n",
    "        j = k\n",
    "        N = N - 1\n",
    "    return j\n",
    "\n",
    "#this is the end of my code\n",
    "        \n",
    "#Write a function here to compute fibonacci number\n",
    "def Fibonacci(N):\n",
    "    '''\n",
    "    This program is to calculate fibonacci number\n",
    "    Input: N (must be a positive integer number) \n",
    "    output: the Fibonacci series\n",
    "    '''\n",
    "\n",
    "    Fib_series = []\n",
    "    \n",
    "    for i in range(1,N+1):\n",
    "        if len(Fib_series)<=1:\n",
    "            Fib_series.append(1)\n",
    "        else:\n",
    "            Fib_series.append(Fib_series[-1] + Fib_series[-2])\n",
    "    return Fib_series\n",
    "\n",
    "print(Fibonacci(-1))\n",
    "print(Fibonacci(1))\n",
    "print(Fibonacci(2))\n",
    "print(Fibonacci(3))\n",
    "print(Fibonacci(4))\n",
    "print(Fibonacci(20))"
   ]
  },
  {
   "cell_type": "code",
   "execution_count": null,
   "metadata": {},
   "outputs": [],
   "source": [
    "#make code to simulate a factorial \n",
    "#here is my code\n",
    "def factorial(B):\n",
    "    z = B\n",
    "    while (B>1):\n",
    "        B = B - 1\n",
    "        z = B * z\n",
    "    return z\n",
    "\n",
    "print(factorial(39))\n",
    "\n",
    "def compute(q, N):\n",
    "    top_line = q + N -1\n",
    "    top_line = factorial(top_line)\n",
    "    temp1 = N - 1\n",
    "    bottom_line = factorial(q) * factorial(temp1)\n",
    "    result = top_line / bottom_line\n",
    "    return result\n",
    "\n",
    "print(compute(1, 2))\n"
   ]
  }
 ],
 "metadata": {
  "kernelspec": {
   "display_name": "Python 3",
   "language": "python",
   "name": "python3"
  },
  "language_info": {
   "codemirror_mode": {
    "name": "ipython",
    "version": 3
   },
   "file_extension": ".py",
   "mimetype": "text/x-python",
   "name": "python",
   "nbconvert_exporter": "python",
   "pygments_lexer": "ipython3",
   "version": "3.6.5"
  }
 },
 "nbformat": 4,
 "nbformat_minor": 2
}
