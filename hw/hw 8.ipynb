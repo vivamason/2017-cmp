{
 "cells": [
  {
   "cell_type": "code",
   "execution_count": 106,
   "metadata": {},
   "outputs": [
    {
     "name": "stdout",
     "output_type": "stream",
     "text": [
      "theoretical percent of snake eyes = 2.7777777777777777\n",
      "experimental percent of snake eyes = 2.68\n"
     ]
    }
   ],
   "source": [
    "import matplotlib.pyplot as plt\n",
    "import numpy as np\n",
    "from math import pi\n",
    "from random import random\n",
    "\n",
    "\n",
    "num = 10000\n",
    "\n",
    "a=np.random.randint(1,7,num)\n",
    "b=np.random.randint(1,7,num)\n",
    "\n",
    "\n",
    "Sum = sum((a == 6) & (b == 6) )\n",
    "theo = (1/6)*(1/6)\n",
    "print(\"theoretical percent of snake eyes =\",theo *100)\n",
    "print(\"experimental percent of snake eyes =\", Sum/num *100)"
   ]
  },
  {
   "cell_type": "code",
   "execution_count": 87,
   "metadata": {},
   "outputs": [
    {
     "data": {
      "text/plain": [
       "<function matplotlib.pyplot.show(*args, **kw)>"
      ]
     },
     "execution_count": 87,
     "metadata": {},
     "output_type": "execute_result"
    },
    {
     "data": {
      "image/png": "[encoded data removed]",
      "text/plain": [
       "<Figure size 432x288 with 1 Axes>"
      ]
     },
     "metadata": {},
     "output_type": "display_data"
    }
   ],
   "source": [
    "\n",
    "\n",
    "N=1000\n",
    "\n",
    "a=577\n",
    "c=577\n",
    "m=6.01 #6.01 for random numbers \n",
    "\n",
    "x = 1\n",
    "\n",
    "results=[]\n",
    "\n",
    "for i in range(N):\n",
    "    x = (a*x+c)%m\n",
    "    #results.append(x)\n",
    "    results.append(x-2.5)\n",
    "plt.plot(results,\"o\")\n",
    "plt.show"
   ]
  },
  {
   "cell_type": "code",
   "execution_count": 162,
   "metadata": {},
   "outputs": [
    {
     "name": "stdout",
     "output_type": "stream",
     "text": [
      "Integral= 0.7597605497654997\n"
     ]
    },
    {
     "name": "stderr",
     "output_type": "stream",
     "text": [
      "/Users/Penguin/miniconda3/lib/python3.6/site-packages/ipykernel_launcher.py:4: RuntimeWarning: invalid value encountered in true_divide\n",
      "  after removing the cwd from sys.path.\n"
     ]
    },
    {
     "data": {
      "image/png": "[encoded data removed]",
      "text/plain": [
       "<Figure size 432x288 with 1 Axes>"
      ]
     },
     "metadata": {},
     "output_type": "display_data"
    }
   ],
   "source": [
    "from scipy.integrate import quad\n",
    "\n",
    "def f(i):\n",
    "    return (np.sqrt(1-(i-1)**2))/( 2-np.sqrt(4-i**2))\n",
    "\n",
    "def g(i):\n",
    "    return 1/(np.exp(i)+1)\n",
    "\n",
    "def w(i):\n",
    "    return i**(-1/2)\n",
    "\n",
    "def stor(i):\n",
    "    I= (1/i)* sum(g(y)) * integ\n",
    "    return I\n",
    "\n",
    "N=1000000\n",
    "\n",
    "z=np.random.uniform(size=N)\n",
    "y=np.random.uniform(size=N)\n",
    "#y=z\n",
    "\n",
    "integ, err = quad(w, 0,1)\n",
    "\n",
    "print('Integral=', stor(N))\n",
    "\n",
    "plt.plot(x, f(x))\n",
    "plt.show()"
   ]
  },
  {
   "cell_type": "code",
   "execution_count": null,
   "metadata": {},
   "outputs": [],
   "source": []
  },
  {
   "cell_type": "code",
   "execution_count": null,
   "metadata": {},
   "outputs": [],
   "source": []
  }
 ],
 "metadata": {
  "kernelspec": {
   "display_name": "Python 3",
   "language": "python",
   "name": "python3"
  },
  "language_info": {
   "codemirror_mode": {
    "name": "ipython",
    "version": 3
   },
   "file_extension": ".py",
   "mimetype": "text/x-python",
   "name": "python",
   "nbconvert_exporter": "python",
   "pygments_lexer": "ipython3",
   "version": "3.6.5"
  }
 },
 "nbformat": 4,
 "nbformat_minor": 2
}
