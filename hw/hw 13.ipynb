{
 "cells": [
  {
   "cell_type": "code",
   "execution_count": 1,
   "metadata": {},
   "outputs": [
    {
     "name": "stdout",
     "output_type": "stream",
     "text": [
      "The number of neighbors is: 8\n",
      "The average accuracy is: 82.811657170885\n",
      "The accuracy is: 91.32947976878613\n",
      "\n",
      "The number of neighbors is: 9\n",
      "The average accuracy is: 83.73748559236654\n",
      "The accuracy is: 91.32947976878613\n",
      "\n",
      "The number of neighbors is: 10\n",
      "The average accuracy is: 83.62274885087785\n",
      "The accuracy is: 86.41618497109826\n",
      "\n",
      "The number of neighbors is: 11\n",
      "The average accuracy is: 84.20115271533307\n",
      "The accuracy is: 85.83815028901735\n",
      "\n",
      "The number of neighbors is: 12\n",
      "The average accuracy is: 84.14448728360642\n",
      "The accuracy is: 92.1965317919075\n",
      "\n",
      "The number of neighbors is: 13\n",
      "The average accuracy is: 84.60574452928552\n",
      "The accuracy is: 90.17341040462428\n",
      "\n",
      "The number of neighbors is: 14\n",
      "The average accuracy is: 84.78176691309649\n",
      "The accuracy is: 87.86127167630057\n",
      "\n",
      "The number of neighbors is: 15\n",
      "The average accuracy is: 85.12848835667857\n",
      "The accuracy is: 88.15028901734104\n",
      "\n"
     ]
    }
   ],
   "source": [
    "import numpy as np  \n",
    "import matplotlib.pyplot as plt  \n",
    "import pandas as pd\n",
    "from sklearn.model_selection import train_test_split\n",
    "from sklearn.neighbors import KNeighborsClassifier\n",
    "from sklearn.model_selection import cross_val_score\n",
    "\n",
    "import warnings\n",
    "warnings.filterwarnings(\"ignore\")\n",
    "\n",
    "url = \"https://archive.ics.uci.edu/ml/machine-learning-databases/car/car.data\"\n",
    "names = ['Quality','Maintenance','Doors','People','Trunk Size','Safety','Rating']\n",
    "dataset = pd.read_csv(url, names = names)\n",
    "\n",
    "dataset[\"Quality\"] = dataset[\"Quality\"].map({'vhigh': 0, 'high': 1, 'med': 2, 'low': 3})\n",
    "dataset[\"Maintenance\"] = dataset[\"Maintenance\"].map({'vhigh': 0, 'high': 1, 'med': 2, 'low': 3})\n",
    "dataset[\"Doors\"] = dataset[\"Doors\"].map({'2': 2, '3': 3, '4': 4, '5more': 0})\n",
    "dataset[\"People\"] = dataset[\"People\"].map({'2':2, '3': 3, '4': 4, 'more': 0})\n",
    "dataset[\"Trunk Size\"] = dataset[\"Trunk Size\"].map({'small': 0, 'med': 1, 'big': 2})\n",
    "dataset[\"Safety\"] = dataset[\"Safety\"].map({'high': 0, 'med': 1, 'low': 2})\n",
    "dataset[\"Rating\"] = dataset[\"Rating\"].map({'unacc': 0, 'acc': 1, 'good': 2, 'vgood': 3})\n",
    "\n",
    "\n",
    "X = dataset.iloc[:,:-1].values\n",
    "Y = dataset.iloc[:,6].values\n",
    "\n",
    "\n",
    "testval = 8\n",
    "\n",
    "for n in range(8):\n",
    "    X_train, X_test, Y_train, Y_test = train_test_split(X, Y, test_size=0.20)\n",
    "    classifier = KNeighborsClassifier(n_neighbors=testval)\n",
    "    classifier.fit(X_train, Y_train)\n",
    "    y_predicted = classifier.predict(X_test)\n",
    "    acc = np.mean(Y_test == y_predicted) *100\n",
    "    values = cross_val_score(classifier, X, Y, scoring = 'accuracy')\n",
    "    avg_acc = np.mean(values)*100\n",
    "\n",
    "    print(\"The number of neighbors is:\",testval)\n",
    "    print(\"The average accuracy is:\", avg_acc)\n",
    "    print(\"The accuracy is:\", acc)\n",
    "    print(\"\")\n",
    "    testval+=1\n"
   ]
  },
  {
   "cell_type": "code",
   "execution_count": null,
   "metadata": {},
   "outputs": [],
   "source": []
  },
  {
   "cell_type": "code",
   "execution_count": null,
   "metadata": {},
   "outputs": [],
   "source": []
  },
  {
   "cell_type": "code",
   "execution_count": null,
   "metadata": {},
   "outputs": [],
   "source": []
  }
 ],
 "metadata": {
  "kernelspec": {
   "display_name": "Python 3",
   "language": "python",
   "name": "python3"
  },
  "language_info": {
   "codemirror_mode": {
    "name": "ipython",
    "version": 3
   },
   "file_extension": ".py",
   "mimetype": "text/x-python",
   "name": "python",
   "nbconvert_exporter": "python",
   "pygments_lexer": "ipython3",
   "version": "3.6.7"
  }
 },
 "nbformat": 4,
 "nbformat_minor": 2
}
