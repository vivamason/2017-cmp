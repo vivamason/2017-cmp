{
 "cells": [
  {
   "cell_type": "code",
   "execution_count": 89,
   "metadata": {},
   "outputs": [
    {
     "data": {
      "image/png": "[encoded data removed]",
      "text/plain": [
       "<Figure size 432x288 with 1 Axes>"
      ]
     },
     "metadata": {},
     "output_type": "display_data"
    },
    {
     "name": "stdout",
     "output_type": "stream",
     "text": [
      "mean for 100 is 0.7034000000000001 ; variance is 0.00871244\n",
      "mean for 1000 is 0.6964199999999999 ; variance is 0.0007305035999999994\n",
      "mean for 10000 is 0.6985360000000002 ; variance is 0.00010581110400000007\n",
      "mean for 100000 is 0.6984718000000001 ; variance is 9.447232760000028e-06\n"
     ]
    }
   ],
   "source": [
    "#Part 1\n",
    "\n",
    "import matplotlib.pyplot as plt\n",
    "from math import sin\n",
    "from random import random\n",
    "import numpy as np\n",
    "\n",
    "# functions -------------------------------------\n",
    "def top_function(x):\n",
    "    return np.sqrt(1-(x-1)**2)\n",
    "\n",
    "def bottom_function(x):\n",
    "    return 2-np.sqrt(4-x**2)\n",
    "\n",
    "def MC(N):\n",
    "    count = 0\n",
    "    for i in range(N):\n",
    "        x_axis = 2*random()\n",
    "        y_axis = random()\n",
    "        if x_axis<top_function(y_axis) and x_axis>bottom_function(y_axis):\n",
    "            count += 1\n",
    "    I = 2*count/N\n",
    "    return I\n",
    "\n",
    "# constants -------------------------------------\n",
    "\n",
    "x_size = 100\n",
    "\n",
    "# main code -------------------------------------\n",
    "\n",
    "    #for the graph\n",
    "fig1 = plt.figure()\n",
    "ax1 = fig1.add_subplot(111, aspect='equal')\n",
    "\n",
    "x1 = np.linspace(0,2,x_size)\n",
    "y1 = np.sqrt(1-(x1-1)**2)\n",
    "ax1.plot(x1,y1,'k')\n",
    "\n",
    "y2 = 2-np.sqrt(4-x1**2)\n",
    "ax1.plot(x1,y2,'k')\n",
    "\n",
    "ax1.set_xlim(0,2)\n",
    "ax1.set_ylim(0,2)\n",
    "ax1.fill_between(x1, y1, y2, where=y1>y2, facecolor='green')\n",
    "\n",
    "plt.show()\n",
    "\n",
    "    #creating an array of arrays to store all the data\n",
    "store = []\n",
    "store.append([])\n",
    "store.append([])\n",
    "store.append([])\n",
    "store.append([])\n",
    "\n",
    "    #cycles through to calculate all the data\n",
    "for n in range(4):\n",
    "    num = 100 * 10**n\n",
    "    for i in range(100):\n",
    "        store[n].append(MC(num))\n",
    "        print(\"calculating for\",num,\":\",i,\"%\", end='\\r')\n",
    "    #calculating the mean and variance\n",
    "    mu = np.mean(store[n])\n",
    "    sigma = np.std(store[n])\n",
    "    variance = sigma * sigma\n",
    "    print(\"mean for\",num,\"is\",mu,\"; variance is\",variance)"
   ]
  },
  {
   "cell_type": "code",
   "execution_count": 95,
   "metadata": {},
   "outputs": [
    {
     "name": "stdout",
     "output_type": "stream",
     "text": [
      "1.0505733451992874\n"
     ]
    }
   ],
   "source": [
    "#part 2\n",
    "\n",
    "def funct(x):\n",
    "    top_half = x**(-1/2)\n",
    "    bottom_half = (np.e**x) + 1\n",
    "    eqn = top_half / bottom_half\n",
    "    return eqn\n",
    "\n",
    "def MC2(N):\n",
    "    I = 0\n",
    "    for i in range(N):\n",
    "        x = 2*random()\n",
    "        I += funct(x)\n",
    "\n",
    "    return I/N*2\n",
    "\n",
    "print(MC2(100))"
   ]
  },
  {
   "cell_type": "code",
   "execution_count": null,
   "metadata": {},
   "outputs": [],
   "source": []
  },
  {
   "cell_type": "code",
   "execution_count": null,
   "metadata": {},
   "outputs": [],
   "source": []
  }
 ],
 "metadata": {
  "kernelspec": {
   "display_name": "Python 3",
   "language": "python",
   "name": "python3"
  },
  "language_info": {
   "codemirror_mode": {
    "name": "ipython",
    "version": 3
   },
   "file_extension": ".py",
   "mimetype": "text/x-python",
   "name": "python",
   "nbconvert_exporter": "python",
   "pygments_lexer": "ipython3",
   "version": "3.6.5"
  }
 },
 "nbformat": 4,
 "nbformat_minor": 2
}
